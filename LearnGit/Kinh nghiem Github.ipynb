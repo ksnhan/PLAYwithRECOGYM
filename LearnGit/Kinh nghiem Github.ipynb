{
 "cells": [
  {
   "cell_type": "markdown",
   "metadata": {},
   "source": [
    "# Kinh nghiem git"
   ]
  },
  {
   "cell_type": "markdown",
   "metadata": {},
   "source": [
    "Link: https://backlog.com/git-tutorial/vn/intro/intro2_4.html"
   ]
  },
  {
   "cell_type": "raw",
   "metadata": {},
   "source": [
    "================== GIT LOCAL ================"
   ]
  },
  {
   "cell_type": "raw",
   "metadata": {},
   "source": [
    "$ mkdir \"DIR\"\n",
    "$ cd DIR\n",
    "$ git init\n",
    "\n",
    "Tao va khoi tao git"
   ]
  },
  {
   "cell_type": "raw",
   "metadata": {},
   "source": [
    "$ git --version\n",
    "$ git status: state of file in git\n",
    "$ git add <file> :  Sẽ chỉ định file sẽ đăng ký vào index ở trong <file>. Có thể chỉ định nhiều cái bằng khoảng trắng (space) phân cách."
   ]
  },
  {
   "cell_type": "raw",
   "metadata": {},
   "source": [
    "$ git commit -m \"<commit>\""
   ]
  },
  {
   "cell_type": "raw",
   "metadata": {},
   "source": [
    "$ git log"
   ]
  },
  {
   "cell_type": "raw",
   "metadata": {},
   "source": [
    "$ gitk: GUI de quan ly git"
   ]
  },
  {
   "cell_type": "raw",
   "metadata": {},
   "source": [
    "============ GIT LOCAL ================="
   ]
  },
  {
   "cell_type": "raw",
   "metadata": {},
   "source": [
    "============ GIT SHARE ================="
   ]
  },
  {
   "cell_type": "markdown",
   "metadata": {},
   "source": [
    "https://backlog.com/git-tutorial/vn/intro/intro3_1.html"
   ]
  },
  {
   "cell_type": "code",
   "execution_count": null,
   "metadata": {
    "collapsed": true
   },
   "outputs": [],
   "source": []
  }
 ],
 "metadata": {
  "kernelspec": {
   "display_name": "Python 3",
   "language": "python",
   "name": "python3"
  },
  "language_info": {
   "codemirror_mode": {
    "name": "ipython",
    "version": 3
   },
   "file_extension": ".py",
   "mimetype": "text/x-python",
   "name": "python",
   "nbconvert_exporter": "python",
   "pygments_lexer": "ipython3",
   "version": "3.6.3"
  }
 },
 "nbformat": 4,
 "nbformat_minor": 2
}
